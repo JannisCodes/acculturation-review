{
 "cells": [
  {
   "cell_type": "markdown",
   "metadata": {
    "kernel": "SoS"
   },
   "source": [
    "# Clean Bibliography\n",
    "\n",
    "To goal of this notebook is to clean your `.bib` file to ensure that it only contains the full first names of references that you have cited in your paper. The full first names will then be used to query the probabilistic gender classifier, [Gender API](https://gender-api.com). The full names will be used to query for probabilistic race using the [ethnicolr package](https://ethnicolr.readthedocs.io/).\n",
    "\n",
    "The only required file you need is your manuscript's bibliography in `.bib` format. __Your `.bib` must only contain references cited in the manuscript__. Otherwise, the estimated proportions will be inaccurate.\n",
    "\n",
    "If you intend to analyze the reference list of a published paper instead of your own manuscript in progress, search the paper on [Web of Knowledge](http://apps.webofknowledge.com/) (you will need institutional access). Next, [download the .bib file from Web of Science following these instructions, but start from Step 4 and on Step 6 select BibTeX instead of Plain Text](https://github.com/jdwor/gendercitation/blob/master/Step0_PullingWOSdata.pdf).\n",
    "\n",
    "If you are not using LaTeX, collect and organize only the references you have cited in your manuscript using your reference manager of choice (e.g. Mendeley, Zotero, EndNote, ReadCube, etc.) and export that selected bibliography as a `.bib` file. __Please try to export your .bib in an output style that uses full first names (rather than only first initials) and using the full author lists (rather than abbreviated author lists with \"et al.\").__ If first initials are included, our code will automatically retrieve about 70% of those names using the article title or DOI. \n",
    "\n",
    "   * [Export `.bib` from Mendeley](https://blog.mendeley.com/2011/10/25/howto-use-mendeley-to-create-citations-using-latex-and-bibtex/)\n",
    "   * [Export `.bib` from Zotero](https://libguides.mit.edu/ld.php?content_id=34248570)\n",
    "   * [Export `.bib` from EndNote](https://www.reed.edu/cis/help/LaTeX/EndNote.html). Note: Please export full first names by either [choosing an output style that does so by default (e.g. in MLA style)](https://canterbury.libguides.com/endnote/basics-output) or by [customizing an output style.](http://bibliotek.usn.no/cite-and-write/endnote/how-to-use/how-to-show-the-author-s-full-name-in-the-reference-list-article185897-28181.html)\n",
    "   * [Export `.bib` from Read Cube Papers](https://support.papersapp.com/support/solutions/articles/30000024634-how-can-i-export-references-from-readcube-papers-)\n",
    "\n",
    "For those working in LaTeX, we can use an optional `.aux` file to automatically filter your `.bib` to check that it only contains entries which are cited in your manuscript.\n",
    "\n",
    "| Input                 | Output                                                                                                                        |\n",
    "|-----------------------|-------------------------------------------------------------------------------------------------------------------------------|\n",
    "| `.bib` file(s)**(REQUIRED)**    | `cleanBib.csv`: table of author first names, titles, and .bib keys                                                            |\n",
    "| `.aux` file (OPTIONAL)| `predictions.csv`: table of author first names, estimated gender classification, and confidence                                   |\n",
    "| `.tex` file (OPTIONAL) | `race_gender_citations.pdf`: heat map of your citations broken down by probabilistic gender and race estimations\n",
    "|                       | `yourTexFile_gendercolor.tex`: your `.tex` file modified to compile .pdf with in-line citations colored-coded by gender pairs |\n",
    "\n",
    "## 1. Import functions\n",
    "\n",
    "Upload your `.bib` file(s) and _optionally_ an `.aux` file generated from compiling your LaTeX manuscript and your `.tex` file\n",
    "\n",
    "![upload button](img/upload.png)\n",
    "\n",
    "![confirm upload button](img/confirmUpload.png)\n",
    "\n",
    "Then, run the code block below. (click to select the block and then press Ctrl+Enter; or click the block and press the Run button in the top menubar)"
   ]
  },
  {
   "cell_type": "code",
   "execution_count": 1,
   "metadata": {
    "kernel": "Python 3"
   },
   "outputs": [
    {
     "name": "stdout",
     "output_type": "stream",
     "text": [
      "main.tex\n",
      "['main.aux']\n",
      "['references.bib']\n"
     ]
    }
   ],
   "source": [
    "import glob\n",
    "from habanero import Crossref\n",
    "import sys\n",
    "import os\n",
    "from pathlib import Path\n",
    "wd = Path(os.getcwd())\n",
    "sys.path.insert(1, f'{wd.absolute()}/utils')\n",
    "from preprocessing import *\n",
    "from ethnicolr import pred_fl_reg_name\n",
    "os.environ[\"TF_CPP_MIN_LOG_LEVEL\"] = \"3\"\n",
    "import tensorflow as tf\n",
    "import seaborn as sns\n",
    "import matplotlib.pyplot as plt\n",
    "np.warnings.filterwarnings('ignore', category=np.VisibleDeprecationWarning)\n",
    "import warnings\n",
    "warnings.simplefilter(action='ignore', category=FutureWarning)\n",
    "\n",
    "cr = Crossref()\n",
    "homedir = ''\n",
    "bib_files = glob.glob(homedir + '*.bib')\n",
    "paper_aux_file = glob.glob(homedir + '*.aux')\n",
    "paper_bib_file = 'references.bib'\n",
    "try:\n",
    "    tex_file = glob.glob(homedir + \"*.tex\")[0]\n",
    "    print(tex_file)\n",
    "    print(paper_aux_file)\n",
    "    print(bib_files)\n",
    "except:\n",
    "    print('No optional .tex file found.')\n",
    "    print(bib_files)"
   ]
  },
  {
   "cell_type": "markdown",
   "metadata": {
    "kernel": "SoS"
   },
   "source": [
    "### 2. Define the _first_ and _last_ author of your paper.\n",
    "\n",
    "For example: \n",
    "```\n",
    "yourFirstAuthor = 'Teich, Erin G.'\n",
    "yourLastAuthor = 'Bassett, Danielle S.'\n",
    "```\n",
    "\n",
    "And optionally, define any co-first or co-last author(s), making sure to keep the square brackets to define a list.\n",
    "\n",
    "For example:\n",
    "```\n",
    "optionalEqualContributors = ['Dworkin, Jordan', 'Stiso, Jennifer']\n",
    "```\n",
    "\n",
    "or \n",
    "\n",
    "```\n",
    "optionalEqualContributors = ['Dworkin, Jordan']\n",
    "```\n",
    "\n",
    "If you are analyzing published papers' reference lists from Web of Science, change the variable checkingPublishedArticle to True:\n",
    "```\n",
    "checkingPublishedArticle = True\n",
    "```\n",
    "\n",
    "Then, run the code block below. (click to select the block and then press Ctrl+Enter; or click the block and press the Run button in the top menubar)\n",
    "\n",
    "__NOTE__: Please edit your .bib file using information printed by the code and provided in cleanedBib.csv. Edit directly within the Binder environment by clicking the .bib file (as shown below), making modifications, and saving the file (as shown below).\n",
    "\n",
    "![open button](img/openBib.png)\n",
    "\n",
    "![save button](img/saveBib.png)\n",
    "\n",
    "Common issues include:\n",
    "\n",
    "* Bibliography entry did not include a last author because the author list was truncated by \"and Others\" or \"et al.\"\n",
    "* Some older journals articles only provide first initial and not full first names, in which case you will need to go digging via Google to identify that person.\n",
    "* In rare cases where the author cannot be identified even after searching by hand, replace the first name with \"UNKNOWNNAMES\" so that the classifier will estimate the gender as unknown."
   ]
  },
  {
   "cell_type": "code",
   "execution_count": null,
   "metadata": {
    "kernel": "Python 3"
   },
   "outputs": [
    {
     "name": "stdout",
     "output_type": "stream",
     "text": [
      "     _           _       _ _\n",
      " ___| |_ ___ ___| |_ ___|_| |_ ___ ___\n",
      "|  _|   | -_|  _| '_|  _| |  _| -_|_ -|\n",
      "|___|_|_|___|___|_,_|___|_|_| |___|___|\n",
      "\n",
      "checkcites.lua -- a reference checker script (v2.4)\n",
      "Copyright (c) 2012, 2019, Enrico Gregorio, Paulo Roberto Massa Cereda\n",
      "\n",
      "Great, I found 0 citations in 1 file. I also found 0 bibliography files.\n",
      "Let me check these files and extract the references. Please wait a moment.\n",
      "\n",
      "Fantastic, I found 0 references in 0 bibliography files. Please wait a\n",
      "moment while the reports are generated.\n",
      "\n",
      "--------------------------------------------------------------------------\n",
      "Report of unused references in your TeX document (that is, references\n",
      "present in bibliography files, but not cited in the TeX source file)\n",
      "--------------------------------------------------------------------------\n",
      "\n",
      "Unused references in your TeX document: 0\n",
      "\n",
      "--------------------------------------------------------------------------\n",
      "Report of undefined references in your TeX document (that is, references\n",
      "cited in the TeX source file, but not present in the bibliography files)\n",
      "--------------------------------------------------------------------------\n",
      "\n",
      "Undefined references in your TeX document: 0\n",
      "\n",
      "Unused citations:  0\n"
     ]
    }
   ],
   "source": [
    "yourFirstAuthor = 'Kreienkamp, Jannis'\n",
    "yourLastAuthor = 'Epstude, Kai'\n",
    "optionalEqualContributors = ['LastName, FirstName OptionalMiddleInitial', 'LastName, FirstName OptionalMiddleInitial']\n",
    "checkingPublishedArticle = False\n",
    "\n",
    "if paper_aux_file:\n",
    "    find_unused_cites(paper_aux_file)\n",
    "\n",
    "bib_data = get_bib_data(bib_files[0])\n",
    "if checkingPublishedArticle:\n",
    "    get_names_published(homedir, bib_data, cr)\n",
    "else:\n",
    "    # find and print duplicates\n",
    "    bib_data = get_duplicates(bib_data, bib_files[0])\n",
    "    # get names, remove CDS, find self cites\n",
    "    get_names(homedir, bib_data, yourFirstAuthor, yourLastAuthor, optionalEqualContributors, cr)\n",
    "    \n",
    "bib_check(homedir)"
   ]
  },
  {
   "cell_type": "markdown",
   "metadata": {},
   "source": [
    "## 3. Estimate gender and race of authors from cleaned bibliography\n",
    "\n",
    "### Checkpoint for cleaned bibliography and using Gender API to estimate genders and race by names\n",
    "After registering for a [gender-api](https://gender-api.com/) account (free), use your 500 free monthly search credits by __pasting your API key in the code for the line indicated below__ (replace only YOUR ACCOUNT KEY HERE):\n",
    "\n",
    "```genderAPI_key = '&key=YOUR ACCOUNT KEY HERE'```\n",
    "\n",
    "[You can find your key in your account's profile page.](https://gender-api.com/en/account/overview#my-api-key)\n",
    "\n",
    "Then, run the code blocks below to estimate how many credits we will need to use. (click to select the block and then press Ctrl+Enter; or click the block and press the Run button in the top menubar)"
   ]
  },
  {
   "cell_type": "code",
   "execution_count": 3,
   "metadata": {
    "kernel": "R"
   },
   "outputs": [
    {
     "name": "stdout",
     "output_type": "stream",
     "text": [
      "Remaining credits: 100\n",
      "This should use (at most) 154 credits, saving you approx 20 credit(s) by storing queries.\n"
     ]
    }
   ],
   "source": [
    "genderAPI_key = '&key=YJqTGjeTkupGNS9RYWYD6lUBWrfUV5DxjRX2'\n",
    "\n",
    "# Check your credit balance\n",
    "check_genderAPI_balance(genderAPI_key, homedir)"
   ]
  },
  {
   "cell_type": "markdown",
   "metadata": {
    "kernel": "SoS"
   },
   "source": [
    "## 4. Describe the proportions of genders in your reference list and compare it to published base rates in neuroscience.\n",
    "\n",
    "__NOTE__: your free GenderAPI account has 500 queries per month. This box contains the code that will use your limited API credits/queries if it runs without error. Re-running all code repeatedly will repeatedly use these credits.\n",
    "\n",
    "Run the code blocks below. (click to select the block and then press Ctrl+Enter; or click the block and press the Run button in the top menubar)"
   ]
  },
  {
   "cell_type": "code",
   "execution_count": 4,
   "metadata": {
    "kernel": "Python 3"
   },
   "outputs": [
    {
     "name": "stdout",
     "output_type": "stream",
     "text": [
      "first author is Jannis Kreienkamp \n",
      "last author is Kai Epstude \n",
      "we don't count these, but check the predictions file to ensure your names did not slip through!\n",
      "looping through your references, predicting gender and race\n"
     ]
    },
    {
     "name": "stderr",
     "output_type": "stream",
     "text": [
      "100%|███████████████████████████████████████████| 88/88 [00:23<00:00,  3.76it/s]"
     ]
    },
    {
     "name": "stdout",
     "output_type": "stream",
     "text": [
      "Queried gender api 121 times out of 176 entries\n",
      "Queried race/ethnicity api 129 times out of 176 entries\n"
     ]
    },
    {
     "name": "stderr",
     "output_type": "stream",
     "text": [
      "\n"
     ]
    }
   ],
   "source": [
    "mm, wm, mw, ww, WW, aw, wa, aa, citation_matrix, paper_df = get_pred_demos((yourFirstAuthor+' '+yourLastAuthor).replace(',',''), homedir, bib_data, genderAPI_key)\n",
    "statement, statementLatex = print_statements(mm, wm, mw, ww, WW, aw, wa, aa)"
   ]
  },
  {
   "cell_type": "markdown",
   "metadata": {
    "kernel": "Python 3"
   },
   "source": [
    "## 5. Print the Diversity Statement and visualize your results\n",
    "\n",
    "The example template can be copied and pasted into your manuscript. We have included it in our methods or references section. If you are using LaTeX, [the bibliography file can be found here](https://github.com/dalejn/cleanBib/blob/master/diversityStatement/).\n",
    "\n",
    "### Additional info about the neuroscience benchmark\n",
    "For the top 5 neuroscience journals (Nature Neuroscience, Neuron, Brain, Journal of Neuroscience, and Neuroimage), the expected gender proportions in reference lists as reported by [Dworkin et al.](https://www.biorxiv.org/content/10.1101/2020.01.03.894378v1.full.pdf) are 58.4% for man/man, 9.4% for man/woman, 25.5% for woman/man, and 6.7% for woman/woman. Expected proportions were calculated by randomly sampling papers from 28,505 articles in the 5 journals, estimating gender breakdowns using probabilistic name classification tools, and regressing for relevant article variables like publication date, journal, number of authors, review article or not, and first-/last-author seniority. See [Dworkin et al.](https://www.biorxiv.org/content/10.1101/2020.01.03.894378v1.full.pdf) for more details. \n",
    "\n",
    "Using a similar random draw model regressing for relevant variables, the expected race proportions in reference lists as reported by Bertolero et al. were 51.8% for white/white, 12.8% for white/author-of-color, 23.5% for author-of-color/white, and 11.9% for author-of-color/author-of-color. \n",
    "\n",
    "This box does NOT contain code that will use your limited API credits/queries.\n",
    "\n",
    "Run the code block below. (click to select the block and then press Ctrl+Enter; or click the block and press the Run button in the top menubar)"
   ]
  },
  {
   "cell_type": "code",
   "execution_count": 14,
   "metadata": {
    "kernel": "Python 3"
   },
   "outputs": [
    {
     "name": "stdout",
     "output_type": "stream",
     "text": [
      "Plain text template:\n",
      "Recent work in several fields of science has identified a bias in citation practices such that papers from women and other minority scholars are under-cited relative to the number of such papers in the field (1-9). Here we sought to proactively consider choosing references that reflect the diversity of the field in thought, form of contribution, gender, race, ethnicity, and other factors. First, we obtained the predicted gender of the first and last author of each reference by using databases that store the probability of a first name being carried by a woman (5, 10). By this measure and excluding self-citations to the first and last authors of our current paper), our references contain 30.36% woman(first)/woman(last), 13.8% man/woman, 11.83% woman/man, and 44.01% man/man. This method is limited in that a) names, pronouns, and social media profiles used to construct the databases may not, in every case, be indicative of gender identity and b) it cannot account for intersex, non-binary, or transgender people. Second, we obtained predicted racial/ethnic category of the first and last author of each reference by databases that store the probability of a first and last name being carried by an author of color (11, 12). By this measure (and excluding self-citations), our references contain 21.34% author of color (first)/author of color(last), 14.33% white author/author of color, 17.15% author of color/white author, and 47.18% white author/white author. This method is limited in that a) names and Florida Voter Data to make the predictions may not be indicative of racial/ethnic identity, and b) it cannot account for Indigenous and mixed-race authors, or those who may face differential biases due to the ambiguous racialization or ethnicization of their names. We look forward to future work that could help us to better understand how to support equitable practices in science.\n",
      "\n",
      "\n",
      "LaTeX template:\n",
      "Recent work in several fields of science has identified a bias in citation practices such that papers from women and other minority scholars are under-cited relative to the number of such papers in the field \\cite{mitchell2013gendered,dion2018gendered,caplar2017quantitative, maliniak2013gender, Dworkin2020.01.03.894378, bertolero2021racial, wang2021gendered, chatterjee2021gender, fulvio2021imbalance}. Here we sought to proactively consider choosing references that reflect the diversity of the field in thought, form of contribution, gender, race, ethnicity, and other factors. First, we obtained the predicted gender of the first and last author of each reference by using databases that store the probability of a first name being carried by a woman \\cite{Dworkin2020.01.03.894378,zhou_dale_2020_3672110}. By this measure (and excluding self-citations to the first and last authors of our current paper), our references contain 30.36\\% woman(first)/woman(last), 13.8\\% man/woman, 11.83\\% woman/man, and 44.01\\% man/man. This method is limited in that a) names, pronouns, and social media profiles used to construct the databases may not, in every case, be indicative of gender identity and b) it cannot account for intersex, non-binary, or transgender people. Second, we obtained predicted racial/ethnic category of the first and last author of each reference by databases that store the probability of a first and last name being carried by an author of color \\cite{ambekar2009name, sood2018predicting}. By this measure (and excluding self-citations), our references contain 21.34\\% author of color (first)/author of color(last), 14.33\\% white author/author of color, 17.15\\% author of color/white author, and 47.18\\% white author/white author. This method is limited in that a) names and Florida Voter Data to make the predictions may not be indicative of racial/ethnic identity, and b) it cannot account for Indigenous and mixed-race authors, or those who may face differential biases due to the ambiguous racialization or ethnicization of their names. We look forward to future work that could help us to better understand how to support equitable practices in science.\n"
     ]
    },
    {
     "ename": "FileNotFoundError",
     "evalue": "[Errno 2] No such file or directory: '//data/expected_matrix_florida.npy'",
     "output_type": "error",
     "traceback": [
      "\u001b[0;31m---------------------------------------------------------------------------\u001b[0m",
      "\u001b[0;31mFileNotFoundError\u001b[0m                         Traceback (most recent call last)",
      "Input \u001b[0;32mIn [14]\u001b[0m, in \u001b[0;36m<cell line: 9>\u001b[0;34m()\u001b[0m\n\u001b[1;32m      5\u001b[0m \u001b[38;5;28mprint\u001b[39m(statementLatex)\n\u001b[1;32m      7\u001b[0m paper_df\u001b[38;5;241m.\u001b[39mto_csv(\u001b[38;5;124m'\u001b[39m\u001b[38;5;124mpredictions.csv\u001b[39m\u001b[38;5;124m'\u001b[39m)\n\u001b[0;32m----> 9\u001b[0m \u001b[43mplot_heatmaps\u001b[49m\u001b[43m(\u001b[49m\u001b[43mcitation_matrix\u001b[49m\u001b[43m,\u001b[49m\u001b[43m \u001b[49m\u001b[43mhomedir\u001b[49m\u001b[43m)\u001b[49m\n\u001b[1;32m     11\u001b[0m plot_histograms()\n",
      "File \u001b[0;32m~/SynologyDrive/PhD/Phd Research [shared]/02 Acculturation Review/acculturation-review/Citation Statement/utils/queries.py:320\u001b[0m, in \u001b[0;36mplot_heatmaps\u001b[0;34m(citation_matrix, homedir)\u001b[0m\n\u001b[1;32m    316\u001b[0m heat\u001b[38;5;241m.\u001b[39mset_title(\u001b[38;5;124m'\u001b[39m\u001b[38;5;124mpercentage of citations\u001b[39m\u001b[38;5;124m'\u001b[39m)  \n\u001b[1;32m    318\u001b[0m citation_matrix_sum \u001b[38;5;241m=\u001b[39m citation_matrix \u001b[38;5;241m/\u001b[39m np\u001b[38;5;241m.\u001b[39msum(citation_matrix) \n\u001b[0;32m--> 320\u001b[0m expected \u001b[38;5;241m=\u001b[39m \u001b[43mnp\u001b[49m\u001b[38;5;241;43m.\u001b[39;49m\u001b[43mload\u001b[49m\u001b[43m(\u001b[49m\u001b[38;5;124;43m'\u001b[39;49m\u001b[38;5;124;43m/\u001b[39;49m\u001b[38;5;132;43;01m%s\u001b[39;49;00m\u001b[38;5;124;43m/data/expected_matrix_florida.npy\u001b[39;49m\u001b[38;5;124;43m'\u001b[39;49m\u001b[38;5;241;43m%\u001b[39;49m\u001b[43m(\u001b[49m\u001b[43mhomedir\u001b[49m\u001b[43m)\u001b[49m\u001b[43m)\u001b[49m\n\u001b[1;32m    321\u001b[0m expected \u001b[38;5;241m=\u001b[39m expected\u001b[38;5;241m/\u001b[39mnp\u001b[38;5;241m.\u001b[39msum(expected)\n\u001b[1;32m    323\u001b[0m percent_overunder \u001b[38;5;241m=\u001b[39m np\u001b[38;5;241m.\u001b[39mceil( ((citation_matrix_sum \u001b[38;5;241m-\u001b[39m expected) \u001b[38;5;241m/\u001b[39m expected)\u001b[38;5;241m*\u001b[39m\u001b[38;5;241m100\u001b[39m)\n",
      "File \u001b[0;32m~/opt/anaconda3/lib/python3.9/site-packages/numpy/lib/npyio.py:407\u001b[0m, in \u001b[0;36mload\u001b[0;34m(file, mmap_mode, allow_pickle, fix_imports, encoding)\u001b[0m\n\u001b[1;32m    405\u001b[0m     own_fid \u001b[38;5;241m=\u001b[39m \u001b[38;5;28;01mFalse\u001b[39;00m\n\u001b[1;32m    406\u001b[0m \u001b[38;5;28;01melse\u001b[39;00m:\n\u001b[0;32m--> 407\u001b[0m     fid \u001b[38;5;241m=\u001b[39m stack\u001b[38;5;241m.\u001b[39menter_context(\u001b[38;5;28;43mopen\u001b[39;49m\u001b[43m(\u001b[49m\u001b[43mos_fspath\u001b[49m\u001b[43m(\u001b[49m\u001b[43mfile\u001b[49m\u001b[43m)\u001b[49m\u001b[43m,\u001b[49m\u001b[43m \u001b[49m\u001b[38;5;124;43m\"\u001b[39;49m\u001b[38;5;124;43mrb\u001b[39;49m\u001b[38;5;124;43m\"\u001b[39;49m\u001b[43m)\u001b[49m)\n\u001b[1;32m    408\u001b[0m     own_fid \u001b[38;5;241m=\u001b[39m \u001b[38;5;28;01mTrue\u001b[39;00m\n\u001b[1;32m    410\u001b[0m \u001b[38;5;66;03m# Code to distinguish from NumPy binary files and pickles.\u001b[39;00m\n",
      "\u001b[0;31mFileNotFoundError\u001b[0m: [Errno 2] No such file or directory: '//data/expected_matrix_florida.npy'"
     ]
    },
    {
     "data": {
      "image/png": "[encoded data removed]",
      "text/plain": [
       "<Figure size 540x288 with 3 Axes>"
      ]
     },
     "metadata": {},
     "output_type": "display_data"
    }
   ],
   "source": [
    "print('Plain text template:')\n",
    "print(statement)\n",
    "print('\\n')\n",
    "print('LaTeX template:')\n",
    "print(statementLatex)\n",
    "\n",
    "paper_df.to_csv('predictions.csv')\n",
    "\n",
    "plot_heatmaps(citation_matrix, homedir)\n",
    "\n",
    "plot_histograms()"
   ]
  },
  {
   "cell_type": "markdown",
   "metadata": {
    "kernel": "SoS"
   },
   "source": [
    "### (OPTIONAL) Color-code your .tex file using the estimated gender classifications\n",
    "\n",
    "Running this code-block will optionally output your uploaded `.tex` file with color-coding for gender pair classifications. You can find the [example below's pre-print here.](https://www.biorxiv.org/content/10.1101/664250v1)\n",
    "\n",
    "![Color-coded .tex file, Eli Cornblath](img/texColors.png)"
   ]
  },
  {
   "cell_type": "code",
   "execution_count": null,
   "metadata": {
    "kernel": "Python 3"
   },
   "outputs": [],
   "source": [
    "colorful_latex(paper_df, homedir, tex_file, bib_data)"
   ]
  }
 ],
 "metadata": {
  "kernelspec": {
   "display_name": "Python 3 (ipykernel)",
   "language": "python",
   "name": "python3"
  },
  "language_info": {
   "codemirror_mode": {
    "name": "ipython",
    "version": 3
   },
   "file_extension": ".py",
   "mimetype": "text/x-python",
   "name": "python",
   "nbconvert_exporter": "python",
   "pygments_lexer": "ipython3",
   "version": "3.9.12"
  },
  "sos": {
   "kernels": [
    [
     "Python 3",
     "python3",
     "python3",
     "",
     {
      "name": "ipython",
      "version": 3
     }
    ],
    [
     "R",
     "ir",
     "R",
     "",
     "r"
    ]
   ],
   "panel": {
    "displayed": true,
    "height": 0
   },
   "version": "0.20.1"
  },
  "toc-showcode": false,
  "vscode": {
   "interpreter": {
    "hash": "66f30d3a05dff018f3baf45891c3cf21b32f9380ea78dc5d1d8b601d704d86ef"
   }
  }
 },
 "nbformat": 4,
 "nbformat_minor": 4
}
